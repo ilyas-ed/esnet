{
 "cells": [
  {
   "cell_type": "markdown",
   "metadata": {},
   "source": [
    "# Implementation example"
   ]
  },
  {
   "cell_type": "code",
   "execution_count": 8,
   "metadata": {},
   "outputs": [],
   "source": [
    "#Imports\n",
    "import numpy as np\n",
    "import pandas as pd\n",
    "\n",
    "import sys\n",
    "sys.path.insert(0, './esnet/')\n",
    "from esnet import *\n",
    "\n",
    "from esnet.optimizers import GradientOptimizer\n",
    "from esnet import PredictionESN\n",
    "\n",
    "import matplotlib.pyplot as plt"
   ]
  },
  {
   "cell_type": "markdown",
   "metadata": {},
   "source": [
    "This Jupyter Notebook's code implements an example of the use of a ESN package called ESN-Easy. It proceeds as the following:\n",
    "1. Imports the easyESN library and utils needed\n",
    "2. Takes the provided dataframe of inputs and targets (see column headings in csv). Call this dataframe pred.\n",
    "3. Accepts the dataframe, columns for targets, columns for predictions as inputs. Then, it splits the data into three categories : train, validation, test.\n",
    "4. Recreates a network until it has a the best MSE value (Loops until a good enough ESN is built).\n",
    "5. Predicts the next 2 points for the \"Target1\" & \"Input6\" column and return it as a list for each one"
   ]
  },
  {
   "cell_type": "code",
   "execution_count": 9,
   "metadata": {},
   "outputs": [],
   "source": [
    "path = \"./inputdata.csv\"\n",
    "pred = pd.read_csv(path)"
   ]
  },
  {
   "cell_type": "markdown",
   "metadata": {},
   "source": [
    "This function partitions the data into train, test & validation sets. It requires the user to set the 'train_percent' which basically the percentage of data that will be used as training set, and also 'validate_percent' which represents the percentage of the data that will be used as validation set. The remaining data will be used as test set."
   ]
  },
  {
   "cell_type": "code",
   "execution_count": 10,
   "metadata": {},
   "outputs": [],
   "source": [
    "def train_validate_test_split(df, train_percent=.8, validate_percent=.15, seed=None):\n",
    "    np.random.seed(seed)\n",
    "    perm = np.random.permutation(df.index)\n",
    "    m = len(df.index)\n",
    "    train_end = int(train_percent * m)\n",
    "    validate_end = int(validate_percent * m) + train_end\n",
    "    train = df.iloc[perm[:train_end]]\n",
    "    validate = df.iloc[perm[train_end:validate_end]]\n",
    "    test = df.iloc[perm[validate_end:]]\n",
    "    return train, validate, test"
   ]
  },
  {
   "cell_type": "markdown",
   "metadata": {},
   "source": [
    "This function compares the MSE of the 1st generated model with maxMSE value, then, the keeps comparing the MSE of several models with different parameters and select the best performing one for the final prediction."
   ]
  },
  {
   "cell_type": "code",
   "execution_count": 11,
   "metadata": {},
   "outputs": [],
   "source": [
    "def NextNValues(df,inputColumns, targetColumns, predictAhead, maxMSE):\n",
    "    #df : The dataframe \n",
    "    #inputColumns : the input columns\n",
    "    #targetColumns : the target columns \n",
    "    #predictAhead : the number of values to predict \n",
    "    #maxMSE = 0.5,   The maximum MSE value.  \n",
    "    #                \n",
    "    \n",
    "    num_reservoir = [50, 75, 100, 150, 200, 250]\n",
    "    leakingrate = [0.025, 0.05, 0.1, 0.2, 0.3, 0.4]\n",
    "    regressionparameters = [1e-1, 1e-2, 1e-3, 1e-4, 1e-5, 1e-6]\n",
    "    \n",
    "    train, validate, test = train_validate_test_split(df)\n",
    "    \n",
    "    inputDataTraining = train[inputColumns]\n",
    "    outputDataTraining = train[targetColumns]\n",
    "    \n",
    "    inputDataValidation = validate[inputColumns]\n",
    "    outputDataValidation = validate[targetColumns]    \n",
    "    \n",
    "    inputDataTest = test[inputColumns]\n",
    "    outputDataTest = test[targetColumns]    \n",
    "    \n",
    "    num_input = len(inputColumns)\n",
    "    num_output = len(targetColumns)\n",
    "    \n",
    "    esn_ret = PredictionESN(n_input=num_input, n_output=num_output, n_reservoir=50, leakingRate=0.001, \n",
    "                        regressionParameters=[1e-5], solver=\"lsqr\", feedback=False)\n",
    "    \n",
    "    num_res = num_reservoir\n",
    "    leaking_rate_ = leakingrate\n",
    "    \n",
    "    count=0\n",
    "    \n",
    "    MSE = maxMSE\n",
    "    \n",
    "    best_num_res = 0\n",
    "    best_leakingrate = 0\n",
    "    best_earning_rates = 0\n",
    "    \n",
    "    arr = list()\n",
    "    for i in range(len(targetColumns)):\n",
    "        arr.append(outputDataValidation[targetColumns[i]].values)\n",
    "\n",
    "    for res in num_reservoir:\n",
    "        for leakingrate_ in leakingrate:\n",
    "            esn = PredictionESN(n_input=num_input, n_output=num_output, n_reservoir=res, \n",
    "                                leakingRate=leakingrate_, regressionParameters=regressionparameters)\n",
    "            \n",
    "            fit_value = esn.fit(inputDataTraining, outputDataTraining, transientTime=\"Auto\", verbose=0)\n",
    "            \n",
    "#             for lr in learning_rates:\n",
    "#                 opt = GradientOptimizer(esn, learningRate=lr)\n",
    "#                 validationLosses, fitLosses, penalties, learningRates = opt.optimizePenaltyForEvaluationError(inputDataTraining.values, outputDataTraining.values, inputDataValidation.values, outputDataValidation.values, epochs=num_epochs, transientTime=100, verbose=0)\n",
    "#                 prediction_val = esn.predict(inputDataValidation)\n",
    "\n",
    "#             prediction_val = esn.predict(inputDataValidation)\n",
    "#             print(prediction_val)\n",
    "#             MSE_val = np.mean((prediction_val - outputDataValidation.values)**2)\n",
    "            \n",
    "            prediction_val = esn.predict(inputDataValidation)\n",
    "                \n",
    "#             print(outputDataValidation[targetColumns[0]].values)\n",
    "            MSE_val = np.mean((prediction_val - arr)**2)\n",
    "            \n",
    "            if MSE_val < MSE: \n",
    "                count += 1\n",
    "                esn_ret = esn\n",
    "                MSE = MSE_val \n",
    "                best_num_res = res\n",
    "                best_leakingrate = leakingrate_\n",
    "                \n",
    "#   \n",
    "#     print('Best parameters: ')\n",
    "#     print('Reservoir: ', best_num_res)\n",
    "#     print('Leaking rate: ', best_num_res)\n",
    "#     print('Learning rate: ', best_learning_rates)\n",
    "#     print('MSE: ', MSE)\n",
    "    \n",
    "    generated_ = esn_ret.generate(NextValues=predictAhead, n=len(inputDataValidation), inputData=inputDataValidation, initialOutputData=inputDataTraining.iloc[-1].values)\n",
    "    \n",
    "    if len(targetColumns)==1:\n",
    "        res = generated_[0]\n",
    "        res = res[:predictAhead]\n",
    "    elif len(targetColumns)==2:\n",
    "        res_1 = generated_[0]\n",
    "        res_1 = res_1[:predictAhead]\n",
    "        res_2 = generated_[2]\n",
    "        res_2 = res_2[:predictAhead]\n",
    "        res=[res_1, res_2]\n",
    "    elif len(targetColumns)==3:\n",
    "        res_1 = generated_[0]\n",
    "        res_1 = res_1[:predictAhead]\n",
    "        res_2 = generated_[1]\n",
    "        res_2 = res_2[:predictAhead]\n",
    "        res_3 = generated_[2]\n",
    "        res_3 = res_3[:predictAhead]\n",
    "        res=[res_1, res_2, res_3]\n",
    "        \n",
    "    return res"
   ]
  },
  {
   "cell_type": "code",
   "execution_count": 12,
   "metadata": {},
   "outputs": [
    {
     "data": {
      "text/plain": [
       "[array([1., 1.]), [64.423116, 17.174506]]"
      ]
     },
     "execution_count": 12,
     "metadata": {},
     "output_type": "execute_result"
    }
   ],
   "source": [
    "\n",
    "\n",
    "NextNValues(pred,['Input1','Input2','Inpit3','Input4'], ['Target1', \"Input6\"], 2, 0.5)"
   ]
  },
  {
   "cell_type": "code",
   "execution_count": null,
   "metadata": {},
   "outputs": [],
   "source": []
  }
 ],
 "metadata": {
  "interpreter": {
   "hash": "4eca3c3458c1e7ad29dad98f08a61798635d9efb033a49e8cfe92dd42ed2015f"
  },
  "kernelspec": {
   "display_name": "Python 3",
   "language": "python",
   "name": "python3"
  },
  "language_info": {
   "codemirror_mode": {
    "name": "ipython",
    "version": 3
   },
   "file_extension": ".py",
   "mimetype": "text/x-python",
   "name": "python",
   "nbconvert_exporter": "python",
   "pygments_lexer": "ipython3",
   "version": "3.8.5"
  }
 },
 "nbformat": 4,
 "nbformat_minor": 4
}
